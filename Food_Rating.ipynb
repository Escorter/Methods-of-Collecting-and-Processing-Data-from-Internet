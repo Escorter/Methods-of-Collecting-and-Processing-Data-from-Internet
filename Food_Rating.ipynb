{
 "cells": [
  {
   "cell_type": "markdown",
   "id": "a4b9c391",
   "metadata": {},
   "source": [
    "#### Задача 2\n",
    "Необходимо собрать информацию по продуктам питания с сайта: Список протестированных продуктов на сайте Роскачество Приложение должно анализировать несколько страниц сайта (вводим через input или аргументы).\n",
    "Получившийся список должен содержать:\n",
    "1. Наименование продукта.\n",
    "2. Все параметры (Безопасность, Натуральность, Пищевая ценность, Качество) Не забываем преобразовать к цифрам\n",
    "3. Общую оценку\n",
    "4. Сайт, откуда получена информация.\n",
    "\n",
    "Общий результат можно вывести с помощью dataFrame через Pandas. Сохраните в json либо csv."
   ]
  },
  {
   "cell_type": "code",
   "execution_count": 23,
   "id": "c04f4464",
   "metadata": {
    "ExecuteTime": {
     "end_time": "2023-02-17T19:07:45.988653Z",
     "start_time": "2023-02-17T19:07:45.973639Z"
    }
   },
   "outputs": [],
   "source": [
    "# Функция парсинга рейтингов молочных продуктов с сайта Росконтроль.\n",
    "# В качестве аргумента вводить строковое название молочного продукта,\n",
    "# к примеру: 'yogurti', 'kefir'\n",
    "# Результаты парсинга записываются в файл Rating.csv\n",
    "\n",
    "def food_rater(product:str): \n",
    "    import requests\n",
    "    from bs4 import BeautifulSoup as bs\n",
    "    import pandas as pd\n",
    "    \n",
    "    \n",
    "    url = f'https://roscontrol.com/category/produkti/molochnie_produkti/{product}'\n",
    "    headers = {\n",
    "    'User-Agent':'Mozilla/5.0 (Windows NT 10.0; Win64; x64) AppleWebKit/537.36 (KHTML, like Gecko) Chrome/110.0.0.0 Safari/537.36'\n",
    "    }\n",
    "    response = requests.get(url=url, headers=headers)\n",
    "    soup = bs(response.content, 'html.parser')\n",
    "    item = soup.find_all('h2', class_='woocommerce-loop-product__title')\n",
    "    items = []\n",
    "    for row in item:\n",
    "        items.append(row.text)\n",
    "    value = soup.find_all('p', attrs={'class':['rating_one_criterion']})\n",
    "    values = []\n",
    "    for row in value:\n",
    "        values.append(row.find(string=True))\n",
    "    values = list(map(float, values))\n",
    "    natural = soup.find_all('p', attrs={'class':['rating_two_criterion']})\n",
    "    naturals = []\n",
    "    for row in natural:\n",
    "        naturals.append(row.find(string=True))\n",
    "    naturals = list(map(float, naturals))\n",
    "    safety = soup.find_all('p', attrs={'class':['rating_three_criterion']})\n",
    "    safeties = []\n",
    "    for row in safety:\n",
    "        safeties.append(row.find(string=True))\n",
    "    safeties = list(map(float, safeties))\n",
    "    quality = soup.find_all('p', attrs={'class':['rating_four_criterion']})\n",
    "    qualities = []\n",
    "    for row in quality:\n",
    "        qualities.append(row.find(string=True))\n",
    "    qualities = list(map(float, qualities))\n",
    "    link = soup.find_all('a', attrs={'class':['woocommerce-LoopProduct-link woocommerce-loop-product__link']})\n",
    "    links = []\n",
    "    for row in link:\n",
    "        links.append(row.get('href'))\n",
    "    df = pd.DataFrame({'Название': items, 'Пищевая ценность': values, 'Натуральность': naturals, 'Безопасность': safeties, \n",
    "                   'Качество': qualities, 'Ссылка':links})\n",
    "    df['Рейтинг'] = ((df['Пищевая ценность'] + df['Натуральность'] + df['Безопасность'] + df['Качество'])/4).round(1)\n",
    "    df.to_csv('Rating.csv', index=False)\n",
    "    print('Парсинг завершен. Результаты записаны в файл Rating.csv')"
   ]
  },
  {
   "cell_type": "code",
   "execution_count": 24,
   "id": "1aa8443b",
   "metadata": {
    "ExecuteTime": {
     "end_time": "2023-02-17T19:08:03.628228Z",
     "start_time": "2023-02-17T19:08:02.211146Z"
    }
   },
   "outputs": [
    {
     "name": "stdout",
     "output_type": "stream",
     "text": [
      "Парсинг завершен. Результаты записаны в файл Rating.csv\n"
     ]
    }
   ],
   "source": [
    "food_rater('yogurti')"
   ]
  }
 ],
 "metadata": {
  "kernelspec": {
   "display_name": "Python 3 (ipykernel)",
   "language": "python",
   "name": "python3"
  },
  "language_info": {
   "codemirror_mode": {
    "name": "ipython",
    "version": 3
   },
   "file_extension": ".py",
   "mimetype": "text/x-python",
   "name": "python",
   "nbconvert_exporter": "python",
   "pygments_lexer": "ipython3",
   "version": "3.9.12"
  },
  "varInspector": {
   "cols": {
    "lenName": 16,
    "lenType": 16,
    "lenVar": 40
   },
   "kernels_config": {
    "python": {
     "delete_cmd_postfix": "",
     "delete_cmd_prefix": "del ",
     "library": "var_list.py",
     "varRefreshCmd": "print(var_dic_list())"
    },
    "r": {
     "delete_cmd_postfix": ") ",
     "delete_cmd_prefix": "rm(",
     "library": "var_list.r",
     "varRefreshCmd": "cat(var_dic_list()) "
    }
   },
   "types_to_exclude": [
    "module",
    "function",
    "builtin_function_or_method",
    "instance",
    "_Feature"
   ],
   "window_display": false
  }
 },
 "nbformat": 4,
 "nbformat_minor": 5
}
