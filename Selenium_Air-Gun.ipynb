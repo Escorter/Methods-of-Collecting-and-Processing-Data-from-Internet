{
 "cells": [
  {
   "cell_type": "code",
   "execution_count": 64,
   "id": "0cc1662a",
   "metadata": {
    "ExecuteTime": {
     "end_time": "2023-03-07T10:25:58.911096Z",
     "start_time": "2023-03-07T10:25:58.895145Z"
    },
    "scrolled": true
   },
   "outputs": [],
   "source": [
    "from selenium.webdriver import Chrome\n",
    "from selenium.webdriver.common.keys import Keys\n",
    "from selenium.webdriver.support.ui import WebDriverWait as wait\n",
    "from selenium.webdriver.support import expected_conditions as EC\n",
    "from selenium.common.exceptions import NoSuchElementException\n",
    "from selenium.webdriver.common.by import By\n",
    "from bs4 import BeautifulSoup\n",
    "import requests\n",
    "from time import sleep\n",
    "from tqdm import tqdm\n",
    "from pprint import pprint"
   ]
  },
  {
   "cell_type": "code",
   "execution_count": 56,
   "id": "e0f0253c",
   "metadata": {
    "ExecuteTime": {
     "end_time": "2023-03-07T10:19:34.054955Z",
     "start_time": "2023-03-07T10:19:34.044981Z"
    }
   },
   "outputs": [],
   "source": [
    "what_to_find = 'карабин' # что будем искать на сайте air-gun.ru"
   ]
  },
  {
   "cell_type": "code",
   "execution_count": 57,
   "id": "c00fd797",
   "metadata": {
    "ExecuteTime": {
     "end_time": "2023-03-07T10:19:36.477052Z",
     "start_time": "2023-03-07T10:19:35.516759Z"
    }
   },
   "outputs": [],
   "source": [
    "browser = Chrome('chromedriver')"
   ]
  },
  {
   "cell_type": "code",
   "execution_count": 58,
   "id": "7f8bf1b8",
   "metadata": {
    "ExecuteTime": {
     "end_time": "2023-03-07T10:19:39.921614Z",
     "start_time": "2023-03-07T10:19:39.908625Z"
    }
   },
   "outputs": [],
   "source": [
    "url = 'https://www.air-gun.ru/'"
   ]
  },
  {
   "cell_type": "code",
   "execution_count": 59,
   "id": "839dfe3b",
   "metadata": {
    "ExecuteTime": {
     "end_time": "2023-03-07T10:19:43.058139Z",
     "start_time": "2023-03-07T10:19:42.380969Z"
    }
   },
   "outputs": [],
   "source": [
    "browser.get(url)"
   ]
  },
  {
   "cell_type": "code",
   "execution_count": 60,
   "id": "de8179db",
   "metadata": {
    "ExecuteTime": {
     "end_time": "2023-03-07T10:19:45.129328Z",
     "start_time": "2023-03-07T10:19:45.117361Z"
    }
   },
   "outputs": [],
   "source": [
    "input_find = browser.find_element(By.ID, 'find') # обнаруживаем поле ввода для поиска по сайту"
   ]
  },
  {
   "cell_type": "code",
   "execution_count": 61,
   "id": "de4a88f5",
   "metadata": {
    "ExecuteTime": {
     "end_time": "2023-03-07T10:19:47.548838Z",
     "start_time": "2023-03-07T10:19:47.500593Z"
    }
   },
   "outputs": [],
   "source": [
    "input_find.send_keys(what_to_find) # вставляем поисковый запрос"
   ]
  },
  {
   "cell_type": "code",
   "execution_count": 62,
   "id": "94969164",
   "metadata": {
    "ExecuteTime": {
     "end_time": "2023-03-07T10:19:50.904749Z",
     "start_time": "2023-03-07T10:19:50.884798Z"
    }
   },
   "outputs": [],
   "source": [
    "submit_find = browser.find_element(By.ID, 'submit_find') # обнаруживаем кнопку подтверждения запроса"
   ]
  },
  {
   "cell_type": "code",
   "execution_count": 63,
   "id": "35d45287",
   "metadata": {
    "ExecuteTime": {
     "end_time": "2023-03-07T10:19:55.376849Z",
     "start_time": "2023-03-07T10:19:54.797597Z"
    }
   },
   "outputs": [],
   "source": [
    "submit_find.click() # подтверждаем поисковый запрос"
   ]
  },
  {
   "cell_type": "code",
   "execution_count": 67,
   "id": "1e141e43",
   "metadata": {
    "ExecuteTime": {
     "end_time": "2023-03-07T10:28:14.831614Z",
     "start_time": "2023-03-07T10:28:12.605334Z"
    }
   },
   "outputs": [],
   "source": [
    "soup = BeautifulSoup(browser.page_source, 'lxml') # формируем soup"
   ]
  },
  {
   "cell_type": "code",
   "execution_count": 68,
   "id": "88da9b5e",
   "metadata": {
    "ExecuteTime": {
     "end_time": "2023-03-07T10:28:14.926941Z",
     "start_time": "2023-03-07T10:28:14.912094Z"
    }
   },
   "outputs": [],
   "source": [
    "prices = soup.find_all('span', class_='price') # находим цену на товары"
   ]
  },
  {
   "cell_type": "code",
   "execution_count": 69,
   "id": "cc6986bc",
   "metadata": {
    "ExecuteTime": {
     "end_time": "2023-03-07T10:28:16.428890Z",
     "start_time": "2023-03-07T10:28:16.421923Z"
    }
   },
   "outputs": [],
   "source": [
    "price_list = [] # формируем массив с ценами\n",
    "for item in prices:\n",
    "    row = item.text.split(' ')\n",
    "    price_list.append(int(row[0]+row[1]))"
   ]
  },
  {
   "cell_type": "code",
   "execution_count": 70,
   "id": "f0c7f702",
   "metadata": {
    "ExecuteTime": {
     "end_time": "2023-03-07T10:28:17.670796Z",
     "start_time": "2023-03-07T10:28:17.637346Z"
    }
   },
   "outputs": [],
   "source": [
    "guns = soup.find_all('div', class_= 'text-box') # находим блоки с описанием товаров"
   ]
  },
  {
   "cell_type": "code",
   "execution_count": 71,
   "id": "933f94d3",
   "metadata": {
    "ExecuteTime": {
     "end_time": "2023-03-07T10:28:20.268616Z",
     "start_time": "2023-03-07T10:28:20.253147Z"
    }
   },
   "outputs": [],
   "source": [
    "title_list = [] # формируем массив с названиями\n",
    "for item in guns:\n",
    "    row = item.find('span', class_= 'title').text\n",
    "    title_list.append(row)"
   ]
  },
  {
   "cell_type": "code",
   "execution_count": 72,
   "id": "d531a273",
   "metadata": {
    "ExecuteTime": {
     "end_time": "2023-03-07T10:28:21.605850Z",
     "start_time": "2023-03-07T10:28:21.588920Z"
    }
   },
   "outputs": [],
   "source": [
    "images = soup.find_all('div', class_= 'image') # ищем изображения товаров"
   ]
  },
  {
   "cell_type": "code",
   "execution_count": 73,
   "id": "3ee54a6b",
   "metadata": {
    "ExecuteTime": {
     "end_time": "2023-03-07T10:28:29.486435Z",
     "start_time": "2023-03-07T10:28:27.325125Z"
    }
   },
   "outputs": [],
   "source": [
    "for i in range(len(images)): # скачиваем изображения товаров\n",
    "    if i<9:\n",
    "        name = f'image0{i+1}'\n",
    "    else:\n",
    "        name = f'image{i+1}'\n",
    "    img_url = images[i].find('img').get('src')\n",
    "    img_file = requests.get(img_url)\n",
    "    with open(name, 'w') as f:\n",
    "        f = img_file"
   ]
  },
  {
   "cell_type": "code",
   "execution_count": 74,
   "id": "01adb8d5",
   "metadata": {
    "ExecuteTime": {
     "end_time": "2023-03-07T10:28:30.917666Z",
     "start_time": "2023-03-07T10:28:30.901131Z"
    }
   },
   "outputs": [
    {
     "name": "stdout",
     "output_type": "stream",
     "text": [
      "('Карабин Вепрь-12 Молот ВПО-205-00 12x76 L=430', 73510)\n",
      "('Карабин ВПО ОП СКС 7,62x39 L=520 (без оптики)', 34790)\n",
      "('Карабин Вепрь-308 Win (СОК-95) 7,62x51 (308 Win) L=590', 62490)\n",
      "('Карабин Вепрь-12 Молот ВПО-205-03 12x76 L=305', 70480)\n",
      "('Карабин Сайга-12 исполнение 030 12x76 L=430 (складной приклад, Пикатинни, '\n",
      " 'съемный пламегаситель)',\n",
      " 61200)\n",
      "('Карабин Тигр исполнение 1 7,62x54R L=620 (ударопрочный полимер, '\n",
      " 'пламегаситель)',\n",
      " 83900)\n",
      "('Карабин Вепрь-12 Молот ВПО-205-02 12x76 L=680', 68750)\n",
      "('Карабин Сайга 12 исполнение 340 12x76 L=430 (Пикатинни, съемный ДТК)', 99390)\n",
      "('Карабин Тигр исполнение 5 7,62x54R L=620 (дерево, пламегаситель щелевой)',\n",
      " 104900)\n",
      "('Карабин Тигр 308 исполнение 2 7,62x51 (308 Win) L=565 (ударопрочный полимер, '\n",
      " 'пламегаситель)',\n",
      " 83900)\n",
      "('Карабин Вепрь-223 Пионер (СОК 97P) 5,56x45 (223 Rem) L=550 (без оптики)',\n",
      " 54180)\n",
      "('Карабин Вепрь ВПО-129-02 7,62x54 L=520 (без оптики)', 62490)\n",
      "('Карабин Вепрь 1В (ВПО-126) 7,62x39 L=420 (без оптики, складной приклад)',\n",
      " 67230)\n",
      "('Карабин Remington 700 VTR 22-250 Rem L=560', 79980)\n",
      "('Карабин ВПО-208 366 ТКМ L=520', 47850)\n",
      "('Карабин Walther Colt M16 Rifle 22 LR', 162490)\n",
      "('Карабин КСО-9 кречет 9x19 L=360', 62490)\n",
      "('Карабин Сайга-12 исполнение 061 12x76 L=580 (боковая планка, 3 чока)', 33770)\n",
      "('Карабин Benelli Argo-E 308 Win L=510', 297900)\n",
      "('Карабин Вепрь-12 Молот ВПО-205-01 12x76 L=570', 68750)\n",
      "('Карабин Remington 783 308 Win L=560', 122000)\n",
      "('Пневматическая винтовка Ataman M2R Карабин 7,62 мм (Дерево)(магазин + '\n",
      " 'модератор)(H117/RB)',\n",
      " 73940)\n",
      "('Пневматическая винтовка Ataman M2R Тип IV Карабин Тактик SL 6,35 мм '\n",
      " '(Дерево)(магазин в комплекте)(616/RB-SL)',\n",
      " 108470)\n",
      "('Карабин Вепрь-Хантер (ВПО-101) 7,62x51 (308 Win) L=550 (без оптики)', 64660)\n",
      "('Карабин Sabatti ROVER 870 Inox SS 308 Win L=560 (черный, пластик)', 121490)\n",
      "('Карабин Вепрь-9 (ВПО-139) 9x19 L=427', 33600)\n",
      "('Карабин Сайга-12К исполнение 030 12x76 L=430 (пластик)', 67790)\n",
      "('Карабин Steyr Mannlicher AUG-Z A3 9x19 L=500', 438000)\n",
      "('Карабин Вепрь 1В (ВПО-127-02) 7,62x51 (308 Win) L=520 (складной приклад)',\n",
      " 62490)\n",
      "('Пневматическая винтовка Ataman M2R Тип II Карабин Тактик SL 5,5 мм '\n",
      " '(Дерево)(магазин в комплекте) (615/RB-SL)',\n",
      " 86400)\n",
      "('Карабин Brugger&Thomet AG APR338 338 Lapua Mag L=685 (дополнительный '\n",
      " 'магазин, погон, сошки, набор для чистки, кофр)',\n",
      " 2175)\n",
      "('Карабин Вепрь 1В (ВПО-129-00) 7,62x54 L=420 (складной приклад)', 62490)\n"
     ]
    }
   ],
   "source": [
    "for i in zip(title_list, price_list): #сращиваем массивы названий и цен\n",
    "    pprint(i)"
   ]
  },
  {
   "cell_type": "code",
   "execution_count": null,
   "id": "4e48a4df",
   "metadata": {},
   "outputs": [],
   "source": []
  }
 ],
 "metadata": {
  "kernelspec": {
   "display_name": "Python 3 (ipykernel)",
   "language": "python",
   "name": "python3"
  },
  "language_info": {
   "codemirror_mode": {
    "name": "ipython",
    "version": 3
   },
   "file_extension": ".py",
   "mimetype": "text/x-python",
   "name": "python",
   "nbconvert_exporter": "python",
   "pygments_lexer": "ipython3",
   "version": "3.9.12"
  },
  "varInspector": {
   "cols": {
    "lenName": 16,
    "lenType": 16,
    "lenVar": 40
   },
   "kernels_config": {
    "python": {
     "delete_cmd_postfix": "",
     "delete_cmd_prefix": "del ",
     "library": "var_list.py",
     "varRefreshCmd": "print(var_dic_list())"
    },
    "r": {
     "delete_cmd_postfix": ") ",
     "delete_cmd_prefix": "rm(",
     "library": "var_list.r",
     "varRefreshCmd": "cat(var_dic_list()) "
    }
   },
   "types_to_exclude": [
    "module",
    "function",
    "builtin_function_or_method",
    "instance",
    "_Feature"
   ],
   "window_display": false
  }
 },
 "nbformat": 4,
 "nbformat_minor": 5
}
