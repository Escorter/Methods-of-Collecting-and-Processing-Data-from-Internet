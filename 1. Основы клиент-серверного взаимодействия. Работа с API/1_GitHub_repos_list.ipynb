{
 "cells": [
  {
   "cell_type": "markdown",
   "id": "13a6a090",
   "metadata": {},
   "source": [
    "#### Задача 1\n",
    "Посмотреть документацию к API GitHub, разобраться как вывести список репозиториев для конкретного пользователя, сохранить JSON-вывод в файле *.json."
   ]
  },
  {
   "cell_type": "code",
   "execution_count": 8,
   "id": "a1b0397d",
   "metadata": {
    "ExecuteTime": {
     "end_time": "2023-02-12T20:16:26.627900Z",
     "start_time": "2023-02-12T20:16:26.612676Z"
    }
   },
   "outputs": [],
   "source": [
    "import requests"
   ]
  },
  {
   "cell_type": "code",
   "execution_count": 9,
   "id": "b224945d",
   "metadata": {
    "ExecuteTime": {
     "end_time": "2023-02-12T20:16:27.154547Z",
     "start_time": "2023-02-12T20:16:27.148562Z"
    }
   },
   "outputs": [],
   "source": [
    "username = 'Escorter'\n",
    "url = f'https://api.github.com/users/{username}/repos'"
   ]
  },
  {
   "cell_type": "code",
   "execution_count": 10,
   "id": "a0ea9b97",
   "metadata": {
    "ExecuteTime": {
     "end_time": "2023-02-12T20:16:27.964541Z",
     "start_time": "2023-02-12T20:16:27.629153Z"
    }
   },
   "outputs": [],
   "source": [
    "response = requests.get(url=url)"
   ]
  },
  {
   "cell_type": "code",
   "execution_count": 11,
   "id": "70562c11",
   "metadata": {
    "ExecuteTime": {
     "end_time": "2023-02-12T20:16:28.226801Z",
     "start_time": "2023-02-12T20:16:28.220844Z"
    }
   },
   "outputs": [
    {
     "data": {
      "text/plain": [
       "200"
      ]
     },
     "execution_count": 11,
     "metadata": {},
     "output_type": "execute_result"
    }
   ],
   "source": [
    "response.status_code"
   ]
  },
  {
   "cell_type": "code",
   "execution_count": 12,
   "id": "af0fe6d6",
   "metadata": {
    "ExecuteTime": {
     "end_time": "2023-02-12T20:16:29.260685Z",
     "start_time": "2023-02-12T20:16:29.252726Z"
    }
   },
   "outputs": [],
   "source": [
    "repos = response.json()"
   ]
  },
  {
   "cell_type": "code",
   "execution_count": 13,
   "id": "b0fc778e",
   "metadata": {
    "ExecuteTime": {
     "end_time": "2023-02-12T20:16:29.865714Z",
     "start_time": "2023-02-12T20:16:29.860728Z"
    }
   },
   "outputs": [],
   "source": [
    "with open ('repos.json', 'w') as f:\n",
    "    for i in repos:\n",
    "        f.write(i['name'] + '\\n')"
   ]
  }
 ],
 "metadata": {
  "kernelspec": {
   "display_name": "Python 3 (ipykernel)",
   "language": "python",
   "name": "python3"
  },
  "language_info": {
   "codemirror_mode": {
    "name": "ipython",
    "version": 3
   },
   "file_extension": ".py",
   "mimetype": "text/x-python",
   "name": "python",
   "nbconvert_exporter": "python",
   "pygments_lexer": "ipython3",
   "version": "3.9.12"
  },
  "varInspector": {
   "cols": {
    "lenName": 16,
    "lenType": 16,
    "lenVar": 40
   },
   "kernels_config": {
    "python": {
     "delete_cmd_postfix": "",
     "delete_cmd_prefix": "del ",
     "library": "var_list.py",
     "varRefreshCmd": "print(var_dic_list())"
    },
    "r": {
     "delete_cmd_postfix": ") ",
     "delete_cmd_prefix": "rm(",
     "library": "var_list.r",
     "varRefreshCmd": "cat(var_dic_list()) "
    }
   },
   "types_to_exclude": [
    "module",
    "function",
    "builtin_function_or_method",
    "instance",
    "_Feature"
   ],
   "window_display": false
  }
 },
 "nbformat": 4,
 "nbformat_minor": 5
}
