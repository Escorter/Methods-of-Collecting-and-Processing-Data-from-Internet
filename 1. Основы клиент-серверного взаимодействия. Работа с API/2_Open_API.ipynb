{
 "cells": [
  {
   "cell_type": "markdown",
   "id": "1854c0a8",
   "metadata": {},
   "source": [
    "#### Задача 2\n",
    "Изучить список открытых API (https://www.programmableweb.com/category/all/apis). Найти среди них любое, требующее авторизацию (любого типа). Выполнить запросы к нему, пройдя авторизацию. Ответ сервера записать в файл"
   ]
  },
  {
   "cell_type": "code",
   "execution_count": 103,
   "id": "1bdc8ee5",
   "metadata": {
    "ExecuteTime": {
     "end_time": "2023-02-12T20:30:49.202356Z",
     "start_time": "2023-02-12T20:30:49.196395Z"
    }
   },
   "outputs": [],
   "source": [
    "import requests\n",
    "import json"
   ]
  },
  {
   "cell_type": "code",
   "execution_count": 104,
   "id": "f96cbe23",
   "metadata": {
    "ExecuteTime": {
     "end_time": "2023-02-12T20:30:50.053617Z",
     "start_time": "2023-02-12T20:30:50.035631Z"
    }
   },
   "outputs": [],
   "source": [
    "api_key = 'u72Mk2b0S8hZivzrhxC6R4HAPXs2apkdSpAaVuTJ'\n",
    "feedtype = 'json'\n",
    "ver = '1.0'\n",
    "url = f'https://api.nasa.gov/insight_weather/?api_key={api_key}&feedtype={feedtype}&ver={ver}&'"
   ]
  },
  {
   "cell_type": "code",
   "execution_count": 105,
   "id": "f948247b",
   "metadata": {
    "ExecuteTime": {
     "end_time": "2023-02-12T20:30:51.874144Z",
     "start_time": "2023-02-12T20:30:50.876479Z"
    }
   },
   "outputs": [],
   "source": [
    "response = requests.get(url=url)"
   ]
  },
  {
   "cell_type": "code",
   "execution_count": 106,
   "id": "67c9abd6",
   "metadata": {
    "ExecuteTime": {
     "end_time": "2023-02-12T20:30:51.904652Z",
     "start_time": "2023-02-12T20:30:51.890030Z"
    }
   },
   "outputs": [
    {
     "data": {
      "text/plain": [
       "200"
      ]
     },
     "execution_count": 106,
     "metadata": {},
     "output_type": "execute_result"
    }
   ],
   "source": [
    "response.status_code"
   ]
  },
  {
   "cell_type": "code",
   "execution_count": 107,
   "id": "65b700be",
   "metadata": {
    "ExecuteTime": {
     "end_time": "2023-02-12T20:30:53.546233Z",
     "start_time": "2023-02-12T20:30:53.532291Z"
    }
   },
   "outputs": [],
   "source": [
    "with open('nasa.json', 'w') as f:\n",
    "    json.dump(response.json(), f)"
   ]
  }
 ],
 "metadata": {
  "kernelspec": {
   "display_name": "Python 3 (ipykernel)",
   "language": "python",
   "name": "python3"
  },
  "language_info": {
   "codemirror_mode": {
    "name": "ipython",
    "version": 3
   },
   "file_extension": ".py",
   "mimetype": "text/x-python",
   "name": "python",
   "nbconvert_exporter": "python",
   "pygments_lexer": "ipython3",
   "version": "3.9.12"
  },
  "varInspector": {
   "cols": {
    "lenName": 16,
    "lenType": 16,
    "lenVar": 40
   },
   "kernels_config": {
    "python": {
     "delete_cmd_postfix": "",
     "delete_cmd_prefix": "del ",
     "library": "var_list.py",
     "varRefreshCmd": "print(var_dic_list())"
    },
    "r": {
     "delete_cmd_postfix": ") ",
     "delete_cmd_prefix": "rm(",
     "library": "var_list.r",
     "varRefreshCmd": "cat(var_dic_list()) "
    }
   },
   "types_to_exclude": [
    "module",
    "function",
    "builtin_function_or_method",
    "instance",
    "_Feature"
   ],
   "window_display": false
  }
 },
 "nbformat": 4,
 "nbformat_minor": 5
}
