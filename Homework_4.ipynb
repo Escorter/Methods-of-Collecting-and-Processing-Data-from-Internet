{
 "cells": [
  {
   "cell_type": "markdown",
   "id": "72573f1e",
   "metadata": {},
   "source": [
    "#### Задача 1\n",
    "Развернуть у себя на компьютере/виртуальной машине/хостинге MongoDB и реализовать функцию, которая будет добавлять только новые вакансии/продукты в вашу базу."
   ]
  },
  {
   "cell_type": "code",
   "execution_count": 67,
   "id": "48d80696",
   "metadata": {
    "ExecuteTime": {
     "end_time": "2023-02-23T22:20:04.089639Z",
     "start_time": "2023-02-23T22:20:04.080687Z"
    }
   },
   "outputs": [],
   "source": [
    "# Функция парсинга рейтингов молочных продуктов с сайта Росконтроль,\n",
    "# которая возвращает список словарей с параметрами продукта\n",
    "\n",
    "def food_rater(product:str): \n",
    "    import requests\n",
    "    from bs4 import BeautifulSoup as bs\n",
    "    import pandas as pd\n",
    "    \n",
    "    \n",
    "    url = f'https://roscontrol.com/category/produkti/molochnie_produkti/{product}'\n",
    "    headers = {\n",
    "    'User-Agent':'Mozilla/5.0 (Windows NT 10.0; Win64; x64) AppleWebKit/537.36 (KHTML, like Gecko) Chrome/110.0.0.0 Safari/537.36'\n",
    "    }\n",
    "    response = requests.get(url=url, headers=headers)\n",
    "    soup = bs(response.content, 'html.parser')\n",
    "    item = soup.find_all('h2', class_='woocommerce-loop-product__title')\n",
    "    items = []\n",
    "    for row in item:\n",
    "        items.append(row.text)\n",
    "    value = soup.find_all('p', attrs={'class':['rating_one_criterion']})\n",
    "    values = []\n",
    "    for row in value:\n",
    "        values.append(row.find(string=True))\n",
    "    values = list(map(float, values))\n",
    "    natural = soup.find_all('p', attrs={'class':['rating_two_criterion']})\n",
    "    naturals = []\n",
    "    for row in natural:\n",
    "        naturals.append(row.find(string=True))\n",
    "    naturals = list(map(float, naturals))\n",
    "    safety = soup.find_all('p', attrs={'class':['rating_three_criterion']})\n",
    "    safeties = []\n",
    "    for row in safety:\n",
    "        safeties.append(row.find(string=True))\n",
    "    safeties = list(map(float, safeties))\n",
    "    quality = soup.find_all('p', attrs={'class':['rating_four_criterion']})\n",
    "    qualities = []\n",
    "    for row in quality:\n",
    "        qualities.append(row.find(string=True))\n",
    "    qualities = list(map(float, qualities))\n",
    "    link = soup.find_all('a', attrs={'class':['woocommerce-LoopProduct-link woocommerce-loop-product__link']})\n",
    "    links = []\n",
    "    for row in link:\n",
    "        links.append(row.get('href'))\n",
    "    products = []\n",
    "    for i in range(len(items)):\n",
    "        products.append({'Название': items[i], 'Пищевая ценность': values[i], 'Натуральность': naturals[i],\n",
    "                     'Безопасность': safeties[i], 'Качество': qualities[i], 'Ссылка':links[i]})\n",
    "    return products"
   ]
  },
  {
   "cell_type": "code",
   "execution_count": 68,
   "id": "ff91c05e",
   "metadata": {
    "ExecuteTime": {
     "end_time": "2023-02-23T22:20:18.132557Z",
     "start_time": "2023-02-23T22:20:13.336693Z"
    }
   },
   "outputs": [],
   "source": [
    "from pprint import pprint\n",
    "\n",
    "\n",
    "products = food_rater('yogurti') # запишем в переменную результат выполнения парсинга "
   ]
  },
  {
   "cell_type": "code",
   "execution_count": 72,
   "id": "29f5087d",
   "metadata": {
    "ExecuteTime": {
     "end_time": "2023-02-23T22:23:03.772558Z",
     "start_time": "2023-02-23T22:23:03.760412Z"
    }
   },
   "outputs": [],
   "source": [
    "# Функция добавления в базу новых (ранее не добавленных) продуктов\n",
    "\n",
    "def add_new_prods(list:products):\n",
    "    from pymongo import MongoClient\n",
    "    \n",
    "    \n",
    "    client = MongoClient()\n",
    "    db = client['products']\n",
    "    collection = db['milk']\n",
    "    for i in products:\n",
    "        if collection.count_documents({'Название': i['Название']})==0:\n",
    "            collection.insert_one(i)\n",
    "    print('Добавление в базу новых продуктов выполнено')"
   ]
  },
  {
   "cell_type": "code",
   "execution_count": 77,
   "id": "1eb2ed2e",
   "metadata": {
    "ExecuteTime": {
     "end_time": "2023-02-23T22:24:45.372603Z",
     "start_time": "2023-02-23T22:24:45.360608Z"
    }
   },
   "outputs": [
    {
     "name": "stdout",
     "output_type": "stream",
     "text": [
      "Добавление в базу новых продуктов выполнено\n"
     ]
    }
   ],
   "source": [
    "add_new_prods(products)"
   ]
  },
  {
   "cell_type": "code",
   "execution_count": 80,
   "id": "fe05c19e",
   "metadata": {
    "ExecuteTime": {
     "end_time": "2023-02-23T22:36:02.407179Z",
     "start_time": "2023-02-23T22:36:02.400198Z"
    }
   },
   "outputs": [
    {
     "name": "stdout",
     "output_type": "stream",
     "text": [
      "{'_id': ObjectId('63f7e6b37f01de96976bc0a1'),\n",
      " 'Безопасность': 9.5,\n",
      " 'Качество': 8.8,\n",
      " 'Название': 'Йогурт «Агуша» с персиком',\n",
      " 'Натуральность': 5.7,\n",
      " 'Пищевая ценность': 9.3,\n",
      " 'Ссылка': 'https://roscontrol.com/product/yogurt-agusha-s-persikom/'}\n",
      "{'_id': ObjectId('63f7e6b37f01de96976bc0a2'),\n",
      " 'Безопасность': 8.0,\n",
      " 'Качество': 9.2,\n",
      " 'Название': '«Активиа» термостатная 3,5%',\n",
      " 'Натуральность': 6.5,\n",
      " 'Пищевая ценность': 7.7,\n",
      " 'Ссылка': 'https://roscontrol.com/product/bioioghurt-aktivia-tiermostatnaia-3-5/'}\n",
      "{'_id': ObjectId('63f7e6b37f01de96976bc0a3'),\n",
      " 'Безопасность': 8.7,\n",
      " 'Качество': 6.0,\n",
      " 'Название': 'Йогурт греческий Teos',\n",
      " 'Натуральность': 8.5,\n",
      " 'Пищевая ценность': 7.5,\n",
      " 'Ссылка': 'https://roscontrol.com/product/yogurt-grecheskiy-teos/'}\n",
      "{'_id': ObjectId('63f7e6b37f01de96976bc0a4'),\n",
      " 'Безопасность': 8.7,\n",
      " 'Качество': 6.0,\n",
      " 'Название': '«Савушкин» «Греческий Teos» с наполнителем черника',\n",
      " 'Натуральность': 8.5,\n",
      " 'Пищевая ценность': 7.5,\n",
      " 'Ссылка': 'https://roscontrol.com/product/savushkin-grecheskiy-teos-s-napolnitelem-chernika/'}\n",
      "{'_id': ObjectId('63f7e6b37f01de96976bc0a5'),\n",
      " 'Безопасность': 9.7,\n",
      " 'Качество': 6.3,\n",
      " 'Название': 'Йогурт Danone «Активиа» с клубникой и земляникой',\n",
      " 'Натуральность': 3.7,\n",
      " 'Пищевая ценность': 10.0,\n",
      " 'Ссылка': 'https://roscontrol.com/product/yogurt-danone-aktivia-s-klubnikoy-i-zemlyanikoy/'}\n",
      "{'_id': ObjectId('63f7e6b37f01de96976bc0a6'),\n",
      " 'Безопасность': 9.7,\n",
      " 'Качество': 6.9,\n",
      " 'Название': 'Йогурт «Свежее Завтра»',\n",
      " 'Натуральность': 3.7,\n",
      " 'Пищевая ценность': 8.9,\n",
      " 'Ссылка': 'https://roscontrol.com/product/yogurt-svegee-zavtra/'}\n",
      "{'_id': ObjectId('63f7e6b37f01de96976bc0a7'),\n",
      " 'Безопасность': 9.0,\n",
      " 'Качество': 5.4,\n",
      " 'Название': 'Йогурт «Асеньевская ферма»',\n",
      " 'Натуральность': 7.0,\n",
      " 'Пищевая ценность': 7.8,\n",
      " 'Ссылка': 'https://roscontrol.com/product/yogurt-asenevskaya-ferma/'}\n",
      "{'_id': ObjectId('63f7e6b37f01de96976bc0a8'),\n",
      " 'Безопасность': 9.4,\n",
      " 'Качество': 6.3,\n",
      " 'Название': 'Биойогурт «Слобода» с персиком',\n",
      " 'Натуральность': 5.3,\n",
      " 'Пищевая ценность': 8.0,\n",
      " 'Ссылка': 'https://roscontrol.com/product/bioyogurt-sloboda-1/'}\n",
      "{'_id': ObjectId('63f7e6b37f01de96976bc0a9'),\n",
      " 'Безопасность': 8.4,\n",
      " 'Качество': 6.0,\n",
      " 'Название': 'Биойогурт «Эковакино» с персиком',\n",
      " 'Натуральность': 6.2,\n",
      " 'Пищевая ценность': 8.0,\n",
      " 'Ссылка': 'https://roscontrol.com/product/yogurt-ekovakino-s-persikom/'}\n",
      "{'_id': ObjectId('63f7e6b37f01de96976bc0aa'),\n",
      " 'Безопасность': 7.5,\n",
      " 'Качество': 7.8,\n",
      " 'Название': 'Йогурт Valio с персиком',\n",
      " 'Натуральность': 4.2,\n",
      " 'Пищевая ценность': 8.8,\n",
      " 'Ссылка': 'https://roscontrol.com/product/yogurt-valio-s-persikom/'}\n"
     ]
    }
   ],
   "source": [
    "for i in collection.find():\n",
    "    pprint(i)"
   ]
  },
  {
   "cell_type": "markdown",
   "id": "4e8db289",
   "metadata": {},
   "source": [
    "#### Задача 2\n",
    "Написать функцию, которая производит поиск и выводит на экран вакансии с заработной платой больше введённой суммы (необходимо анализировать оба поля зарплаты). Для тех, кто выполнил задание с Росконтролем - напишите запрос для поиска продуктов с рейтингом не ниже введенного или качеством не ниже введенного (то есть цифра вводится одна, а запрос проверяет оба поля)."
   ]
  },
  {
   "cell_type": "code",
   "execution_count": 90,
   "id": "a9c9ee72",
   "metadata": {
    "ExecuteTime": {
     "end_time": "2023-02-23T23:00:56.061869Z",
     "start_time": "2023-02-23T23:00:56.055886Z"
    }
   },
   "outputs": [],
   "source": [
    "# Функция отбора и вывода на экран продуктов с общим рейтингом не ниже введенного\n",
    "# или качеством не ниже ввденного.\n",
    "\n",
    "def weed_out(n):\n",
    "    from pymongo import MongoClient\n",
    "    from pprint import pprint\n",
    "    \n",
    "    \n",
    "    client = MongoClient()\n",
    "    db = client['products']\n",
    "    collection = db['milk']\n",
    "    for i in collection.find():\n",
    "        if (i['Качество'] >= n or (i['Качество']+i['Безопасность']+i['Натуральность']+i['Пищевая ценность'])/4 >= n):\n",
    "            pprint(i)"
   ]
  },
  {
   "cell_type": "code",
   "execution_count": 91,
   "id": "cd5caf2b",
   "metadata": {
    "ExecuteTime": {
     "end_time": "2023-02-23T23:00:57.685118Z",
     "start_time": "2023-02-23T23:00:57.639374Z"
    }
   },
   "outputs": [
    {
     "name": "stdout",
     "output_type": "stream",
     "text": [
      "{'_id': ObjectId('63f7e6b37f01de96976bc0a1'),\n",
      " 'Безопасность': 9.5,\n",
      " 'Качество': 8.8,\n",
      " 'Название': 'Йогурт «Агуша» с персиком',\n",
      " 'Натуральность': 5.7,\n",
      " 'Пищевая ценность': 9.3,\n",
      " 'Ссылка': 'https://roscontrol.com/product/yogurt-agusha-s-persikom/'}\n",
      "{'_id': ObjectId('63f7e6b37f01de96976bc0a2'),\n",
      " 'Безопасность': 8.0,\n",
      " 'Качество': 9.2,\n",
      " 'Название': '«Активиа» термостатная 3,5%',\n",
      " 'Натуральность': 6.5,\n",
      " 'Пищевая ценность': 7.7,\n",
      " 'Ссылка': 'https://roscontrol.com/product/bioioghurt-aktivia-tiermostatnaia-3-5/'}\n"
     ]
    }
   ],
   "source": [
    "weed_out(8)"
   ]
  }
 ],
 "metadata": {
  "kernelspec": {
   "display_name": "Python 3 (ipykernel)",
   "language": "python",
   "name": "python3"
  },
  "language_info": {
   "codemirror_mode": {
    "name": "ipython",
    "version": 3
   },
   "file_extension": ".py",
   "mimetype": "text/x-python",
   "name": "python",
   "nbconvert_exporter": "python",
   "pygments_lexer": "ipython3",
   "version": "3.9.12"
  },
  "varInspector": {
   "cols": {
    "lenName": 16,
    "lenType": 16,
    "lenVar": 40
   },
   "kernels_config": {
    "python": {
     "delete_cmd_postfix": "",
     "delete_cmd_prefix": "del ",
     "library": "var_list.py",
     "varRefreshCmd": "print(var_dic_list())"
    },
    "r": {
     "delete_cmd_postfix": ") ",
     "delete_cmd_prefix": "rm(",
     "library": "var_list.r",
     "varRefreshCmd": "cat(var_dic_list()) "
    }
   },
   "types_to_exclude": [
    "module",
    "function",
    "builtin_function_or_method",
    "instance",
    "_Feature"
   ],
   "window_display": false
  }
 },
 "nbformat": 4,
 "nbformat_minor": 5
}
