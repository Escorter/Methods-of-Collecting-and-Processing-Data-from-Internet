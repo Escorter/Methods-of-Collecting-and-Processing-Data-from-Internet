{
 "cells": [
  {
   "cell_type": "markdown",
   "id": "a4b9c391",
   "metadata": {},
   "source": [
    "#### Задача 1\n",
    "Спарсить цитаты с сайта Quotes to Scrape. Необходимо извлечь саму цитату, автора и список тегов."
   ]
  },
  {
   "cell_type": "code",
   "execution_count": 336,
   "id": "4635afa5",
   "metadata": {
    "ExecuteTime": {
     "end_time": "2023-02-15T21:50:16.983562Z",
     "start_time": "2023-02-15T21:50:16.970596Z"
    }
   },
   "outputs": [],
   "source": [
    "import requests\n",
    "from bs4 import BeautifulSoup as bs"
   ]
  },
  {
   "cell_type": "code",
   "execution_count": 337,
   "id": "6c150e0b",
   "metadata": {
    "ExecuteTime": {
     "end_time": "2023-02-15T21:50:16.991134Z",
     "start_time": "2023-02-15T21:50:16.984559Z"
    }
   },
   "outputs": [],
   "source": [
    "url = 'https://quotes.toscrape.com/'\n",
    "headers = {\n",
    "    'User-Agent':'Mozilla/5.0 (Windows NT 10.0; Win64; x64) AppleWebKit/537.36 (KHTML, like Gecko) Chrome/110.0.0.0 Safari/537.36'\n",
    "}"
   ]
  },
  {
   "cell_type": "code",
   "execution_count": 338,
   "id": "28532c2d",
   "metadata": {
    "ExecuteTime": {
     "end_time": "2023-02-15T21:50:17.551405Z",
     "start_time": "2023-02-15T21:50:16.991134Z"
    }
   },
   "outputs": [],
   "source": [
    "response = requests.get(url=url, headers=headers)"
   ]
  },
  {
   "cell_type": "code",
   "execution_count": 339,
   "id": "d02d9f03",
   "metadata": {
    "ExecuteTime": {
     "end_time": "2023-02-15T21:50:17.571440Z",
     "start_time": "2023-02-15T21:50:17.551405Z"
    }
   },
   "outputs": [
    {
     "data": {
      "text/plain": [
       "200"
      ]
     },
     "execution_count": 339,
     "metadata": {},
     "output_type": "execute_result"
    }
   ],
   "source": [
    "response.status_code"
   ]
  },
  {
   "cell_type": "code",
   "execution_count": 340,
   "id": "3617ac34",
   "metadata": {
    "ExecuteTime": {
     "end_time": "2023-02-15T21:50:17.587720Z",
     "start_time": "2023-02-15T21:50:17.572010Z"
    }
   },
   "outputs": [],
   "source": [
    "soup = bs(response.content, 'html.parser')"
   ]
  },
  {
   "cell_type": "code",
   "execution_count": 341,
   "id": "e1dbee19",
   "metadata": {
    "ExecuteTime": {
     "end_time": "2023-02-15T21:50:17.604493Z",
     "start_time": "2023-02-15T21:50:17.588784Z"
    }
   },
   "outputs": [],
   "source": [
    "q = soup.find_all('span', attrs={'class':['text'], 'itemprop':['text']})"
   ]
  },
  {
   "cell_type": "code",
   "execution_count": 342,
   "id": "038ce8ad",
   "metadata": {
    "ExecuteTime": {
     "end_time": "2023-02-15T21:50:17.621209Z",
     "start_time": "2023-02-15T21:50:17.605499Z"
    }
   },
   "outputs": [],
   "source": [
    "quotes = []\n",
    "for row in q:\n",
    "    quotes.append(row.find(string=True))"
   ]
  },
  {
   "cell_type": "code",
   "execution_count": 343,
   "id": "171ea6d5",
   "metadata": {
    "ExecuteTime": {
     "end_time": "2023-02-15T21:50:17.637871Z",
     "start_time": "2023-02-15T21:50:17.622166Z"
    }
   },
   "outputs": [
    {
     "data": {
      "text/plain": [
       "['“The world as we have created it is a process of our thinking. It cannot be changed without changing our thinking.”',\n",
       " '“It is our choices, Harry, that show what we truly are, far more than our abilities.”',\n",
       " '“There are only two ways to live your life. One is as though nothing is a miracle. The other is as though everything is a miracle.”',\n",
       " '“The person, be it gentleman or lady, who has not pleasure in a good novel, must be intolerably stupid.”',\n",
       " \"“Imperfection is beauty, madness is genius and it's better to be absolutely ridiculous than absolutely boring.”\",\n",
       " '“Try not to become a man of success. Rather become a man of value.”',\n",
       " '“It is better to be hated for what you are than to be loved for what you are not.”',\n",
       " \"“I have not failed. I've just found 10,000 ways that won't work.”\",\n",
       " \"“A woman is like a tea bag; you never know how strong it is until it's in hot water.”\",\n",
       " '“A day without sunshine is like, you know, night.”']"
      ]
     },
     "execution_count": 343,
     "metadata": {},
     "output_type": "execute_result"
    }
   ],
   "source": [
    "quotes"
   ]
  },
  {
   "cell_type": "code",
   "execution_count": 344,
   "id": "797bd9c8",
   "metadata": {
    "ExecuteTime": {
     "end_time": "2023-02-15T21:50:17.654378Z",
     "start_time": "2023-02-15T21:50:17.638673Z"
    }
   },
   "outputs": [],
   "source": [
    "a = soup.find_all('small', attrs={'class':['author'], 'itemprop':['author']})"
   ]
  },
  {
   "cell_type": "code",
   "execution_count": 345,
   "id": "2a6aba81",
   "metadata": {
    "ExecuteTime": {
     "end_time": "2023-02-15T21:50:17.671112Z",
     "start_time": "2023-02-15T21:50:17.655408Z"
    }
   },
   "outputs": [],
   "source": [
    "authors = []\n",
    "for row in a:\n",
    "    authors.append(row.find(string=True))"
   ]
  },
  {
   "cell_type": "code",
   "execution_count": 346,
   "id": "75e50ed6",
   "metadata": {
    "ExecuteTime": {
     "end_time": "2023-02-15T21:50:17.687686Z",
     "start_time": "2023-02-15T21:50:17.671981Z"
    }
   },
   "outputs": [
    {
     "data": {
      "text/plain": [
       "['Albert Einstein',\n",
       " 'J.K. Rowling',\n",
       " 'Albert Einstein',\n",
       " 'Jane Austen',\n",
       " 'Marilyn Monroe',\n",
       " 'Albert Einstein',\n",
       " 'André Gide',\n",
       " 'Thomas A. Edison',\n",
       " 'Eleanor Roosevelt',\n",
       " 'Steve Martin']"
      ]
     },
     "execution_count": 346,
     "metadata": {},
     "output_type": "execute_result"
    }
   ],
   "source": [
    "authors"
   ]
  },
  {
   "cell_type": "code",
   "execution_count": 347,
   "id": "846ceb4b",
   "metadata": {
    "ExecuteTime": {
     "end_time": "2023-02-15T21:50:17.704461Z",
     "start_time": "2023-02-15T21:50:17.688757Z"
    }
   },
   "outputs": [],
   "source": [
    "t = soup.find_all('meta', attrs={'class':['keywords']}, content=True)"
   ]
  },
  {
   "cell_type": "code",
   "execution_count": 348,
   "id": "08e9a74a",
   "metadata": {
    "ExecuteTime": {
     "end_time": "2023-02-15T21:50:17.721075Z",
     "start_time": "2023-02-15T21:50:17.705448Z"
    }
   },
   "outputs": [],
   "source": [
    "tags = []\n",
    "for row in t:\n",
    "    tags.append(row['content'])"
   ]
  },
  {
   "cell_type": "code",
   "execution_count": 349,
   "id": "eb2df36e",
   "metadata": {
    "ExecuteTime": {
     "end_time": "2023-02-15T21:50:17.737836Z",
     "start_time": "2023-02-15T21:50:17.722132Z"
    }
   },
   "outputs": [
    {
     "data": {
      "text/plain": [
       "['change,deep-thoughts,thinking,world',\n",
       " 'abilities,choices',\n",
       " 'inspirational,life,live,miracle,miracles',\n",
       " 'aliteracy,books,classic,humor',\n",
       " 'be-yourself,inspirational',\n",
       " 'adulthood,success,value',\n",
       " 'life,love',\n",
       " 'edison,failure,inspirational,paraphrased',\n",
       " 'misattributed-eleanor-roosevelt',\n",
       " 'humor,obvious,simile']"
      ]
     },
     "execution_count": 349,
     "metadata": {},
     "output_type": "execute_result"
    }
   ],
   "source": [
    "tags"
   ]
  },
  {
   "cell_type": "code",
   "execution_count": 350,
   "id": "658fc1e6",
   "metadata": {
    "ExecuteTime": {
     "end_time": "2023-02-15T21:50:17.754305Z",
     "start_time": "2023-02-15T21:50:17.738684Z"
    }
   },
   "outputs": [],
   "source": [
    "result = zip(quotes, authors, tags)"
   ]
  },
  {
   "cell_type": "code",
   "execution_count": 351,
   "id": "cb953d54",
   "metadata": {
    "ExecuteTime": {
     "end_time": "2023-02-15T21:50:17.770983Z",
     "start_time": "2023-02-15T21:50:17.755356Z"
    }
   },
   "outputs": [
    {
     "name": "stdout",
     "output_type": "stream",
     "text": [
      "“The world as we have created it is a process of our thinking. It cannot be changed without changing our thinking.”\n",
      "Albert Einstein\n",
      "change,deep-thoughts,thinking,world\n",
      "\n",
      "\n",
      "“It is our choices, Harry, that show what we truly are, far more than our abilities.”\n",
      "J.K. Rowling\n",
      "abilities,choices\n",
      "\n",
      "\n",
      "“There are only two ways to live your life. One is as though nothing is a miracle. The other is as though everything is a miracle.”\n",
      "Albert Einstein\n",
      "inspirational,life,live,miracle,miracles\n",
      "\n",
      "\n",
      "“The person, be it gentleman or lady, who has not pleasure in a good novel, must be intolerably stupid.”\n",
      "Jane Austen\n",
      "aliteracy,books,classic,humor\n",
      "\n",
      "\n",
      "“Imperfection is beauty, madness is genius and it's better to be absolutely ridiculous than absolutely boring.”\n",
      "Marilyn Monroe\n",
      "be-yourself,inspirational\n",
      "\n",
      "\n",
      "“Try not to become a man of success. Rather become a man of value.”\n",
      "Albert Einstein\n",
      "adulthood,success,value\n",
      "\n",
      "\n",
      "“It is better to be hated for what you are than to be loved for what you are not.”\n",
      "André Gide\n",
      "life,love\n",
      "\n",
      "\n",
      "“I have not failed. I've just found 10,000 ways that won't work.”\n",
      "Thomas A. Edison\n",
      "edison,failure,inspirational,paraphrased\n",
      "\n",
      "\n",
      "“A woman is like a tea bag; you never know how strong it is until it's in hot water.”\n",
      "Eleanor Roosevelt\n",
      "misattributed-eleanor-roosevelt\n",
      "\n",
      "\n",
      "“A day without sunshine is like, you know, night.”\n",
      "Steve Martin\n",
      "humor,obvious,simile\n",
      "\n",
      "\n"
     ]
    }
   ],
   "source": [
    "for i in result:\n",
    "    for j in range(len(i)):\n",
    "        print(i[j])\n",
    "    print('\\n')"
   ]
  }
 ],
 "metadata": {
  "kernelspec": {
   "display_name": "Python 3 (ipykernel)",
   "language": "python",
   "name": "python3"
  },
  "language_info": {
   "codemirror_mode": {
    "name": "ipython",
    "version": 3
   },
   "file_extension": ".py",
   "mimetype": "text/x-python",
   "name": "python",
   "nbconvert_exporter": "python",
   "pygments_lexer": "ipython3",
   "version": "3.9.12"
  },
  "varInspector": {
   "cols": {
    "lenName": 16,
    "lenType": 16,
    "lenVar": 40
   },
   "kernels_config": {
    "python": {
     "delete_cmd_postfix": "",
     "delete_cmd_prefix": "del ",
     "library": "var_list.py",
     "varRefreshCmd": "print(var_dic_list())"
    },
    "r": {
     "delete_cmd_postfix": ") ",
     "delete_cmd_prefix": "rm(",
     "library": "var_list.r",
     "varRefreshCmd": "cat(var_dic_list()) "
    }
   },
   "types_to_exclude": [
    "module",
    "function",
    "builtin_function_or_method",
    "instance",
    "_Feature"
   ],
   "window_display": false
  }
 },
 "nbformat": 4,
 "nbformat_minor": 5
}
